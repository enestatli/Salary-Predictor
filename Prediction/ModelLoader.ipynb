{
 "cells": [
  {
   "cell_type": "code",
   "execution_count": null,
   "metadata": {},
   "outputs": [],
   "source": [
    "import pandas as pd\n",
    "import numpy as np\n",
    "import pickle\n",
    "\n",
    "def ValuePredictor(to_predict_list):\n",
    "    #to_predict = np.array(to_predict_list).reshape(1,12)\n",
    "    to_predict = np.array(to_predict_list)\n",
    "    loaded_model = pickle.load(open(\"NNmodel/model2.pkl\",\"rb\"))\n",
    "    result = loaded_model.predict(to_predict)\n",
    "    return result[0]\n",
    "\n",
    "example_list=[[44,3,15,10,1,6,0,2,1,7688,0,40]]\n",
    "print(ValuePredictor(example_list))"
   ]
  },
  {
   "cell_type": "code",
   "execution_count": null,
   "metadata": {},
   "outputs": [],
   "source": []
  }
 ],
 "metadata": {
  "kernelspec": {
   "display_name": "Python 3",
   "language": "python",
   "name": "python3"
  },
  "language_info": {
   "codemirror_mode": {
    "name": "ipython",
    "version": 3
   },
   "file_extension": ".py",
   "mimetype": "text/x-python",
   "name": "python",
   "nbconvert_exporter": "python",
   "pygments_lexer": "ipython3",
   "version": "3.7.0"
  }
 },
 "nbformat": 4,
 "nbformat_minor": 2
}
